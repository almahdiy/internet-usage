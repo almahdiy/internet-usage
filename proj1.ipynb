{
 "cells": [
  {
   "cell_type": "markdown",
   "metadata": {},
   "source": [
    "# How Internet Usage Affects Young People"
   ]
  },
  {
   "cell_type": "code",
   "execution_count": 3,
   "metadata": {
    "scrolled": true
   },
   "outputs": [
    {
     "data": {
      "text/html": [
       "<div>\n",
       "<style scoped>\n",
       "    .dataframe tbody tr th:only-of-type {\n",
       "        vertical-align: middle;\n",
       "    }\n",
       "\n",
       "    .dataframe tbody tr th {\n",
       "        vertical-align: top;\n",
       "    }\n",
       "\n",
       "    .dataframe thead th {\n",
       "        text-align: right;\n",
       "    }\n",
       "</style>\n",
       "<table border=\"1\" class=\"dataframe\">\n",
       "  <thead>\n",
       "    <tr style=\"text-align: right;\">\n",
       "      <th></th>\n",
       "      <th>Music</th>\n",
       "      <th>Slow songs or fast songs</th>\n",
       "      <th>Dance</th>\n",
       "      <th>Folk</th>\n",
       "      <th>Country</th>\n",
       "      <th>Classical music</th>\n",
       "      <th>Musical</th>\n",
       "      <th>Pop</th>\n",
       "      <th>Rock</th>\n",
       "      <th>Metal or Hardrock</th>\n",
       "      <th>...</th>\n",
       "      <th>Age</th>\n",
       "      <th>Height</th>\n",
       "      <th>Weight</th>\n",
       "      <th>Number of siblings</th>\n",
       "      <th>Gender</th>\n",
       "      <th>Left - right handed</th>\n",
       "      <th>Education</th>\n",
       "      <th>Only child</th>\n",
       "      <th>Village - town</th>\n",
       "      <th>House - block of flats</th>\n",
       "    </tr>\n",
       "  </thead>\n",
       "  <tbody>\n",
       "    <tr>\n",
       "      <td>0</td>\n",
       "      <td>5.0</td>\n",
       "      <td>3.0</td>\n",
       "      <td>2.0</td>\n",
       "      <td>1.0</td>\n",
       "      <td>2.0</td>\n",
       "      <td>2.0</td>\n",
       "      <td>1.0</td>\n",
       "      <td>5.0</td>\n",
       "      <td>5.0</td>\n",
       "      <td>1.0</td>\n",
       "      <td>...</td>\n",
       "      <td>20.0</td>\n",
       "      <td>163.0</td>\n",
       "      <td>48.0</td>\n",
       "      <td>1.0</td>\n",
       "      <td>female</td>\n",
       "      <td>right handed</td>\n",
       "      <td>college/bachelor degree</td>\n",
       "      <td>no</td>\n",
       "      <td>village</td>\n",
       "      <td>block of flats</td>\n",
       "    </tr>\n",
       "    <tr>\n",
       "      <td>1</td>\n",
       "      <td>4.0</td>\n",
       "      <td>4.0</td>\n",
       "      <td>2.0</td>\n",
       "      <td>1.0</td>\n",
       "      <td>1.0</td>\n",
       "      <td>1.0</td>\n",
       "      <td>2.0</td>\n",
       "      <td>3.0</td>\n",
       "      <td>5.0</td>\n",
       "      <td>4.0</td>\n",
       "      <td>...</td>\n",
       "      <td>19.0</td>\n",
       "      <td>163.0</td>\n",
       "      <td>58.0</td>\n",
       "      <td>2.0</td>\n",
       "      <td>female</td>\n",
       "      <td>right handed</td>\n",
       "      <td>college/bachelor degree</td>\n",
       "      <td>no</td>\n",
       "      <td>city</td>\n",
       "      <td>block of flats</td>\n",
       "    </tr>\n",
       "    <tr>\n",
       "      <td>2</td>\n",
       "      <td>5.0</td>\n",
       "      <td>5.0</td>\n",
       "      <td>2.0</td>\n",
       "      <td>2.0</td>\n",
       "      <td>3.0</td>\n",
       "      <td>4.0</td>\n",
       "      <td>5.0</td>\n",
       "      <td>3.0</td>\n",
       "      <td>5.0</td>\n",
       "      <td>3.0</td>\n",
       "      <td>...</td>\n",
       "      <td>20.0</td>\n",
       "      <td>176.0</td>\n",
       "      <td>67.0</td>\n",
       "      <td>2.0</td>\n",
       "      <td>female</td>\n",
       "      <td>right handed</td>\n",
       "      <td>secondary school</td>\n",
       "      <td>no</td>\n",
       "      <td>city</td>\n",
       "      <td>block of flats</td>\n",
       "    </tr>\n",
       "    <tr>\n",
       "      <td>3</td>\n",
       "      <td>5.0</td>\n",
       "      <td>3.0</td>\n",
       "      <td>2.0</td>\n",
       "      <td>1.0</td>\n",
       "      <td>1.0</td>\n",
       "      <td>1.0</td>\n",
       "      <td>1.0</td>\n",
       "      <td>2.0</td>\n",
       "      <td>2.0</td>\n",
       "      <td>1.0</td>\n",
       "      <td>...</td>\n",
       "      <td>22.0</td>\n",
       "      <td>172.0</td>\n",
       "      <td>59.0</td>\n",
       "      <td>1.0</td>\n",
       "      <td>female</td>\n",
       "      <td>right handed</td>\n",
       "      <td>college/bachelor degree</td>\n",
       "      <td>yes</td>\n",
       "      <td>city</td>\n",
       "      <td>house/bungalow</td>\n",
       "    </tr>\n",
       "    <tr>\n",
       "      <td>4</td>\n",
       "      <td>5.0</td>\n",
       "      <td>3.0</td>\n",
       "      <td>4.0</td>\n",
       "      <td>3.0</td>\n",
       "      <td>2.0</td>\n",
       "      <td>4.0</td>\n",
       "      <td>3.0</td>\n",
       "      <td>5.0</td>\n",
       "      <td>3.0</td>\n",
       "      <td>1.0</td>\n",
       "      <td>...</td>\n",
       "      <td>20.0</td>\n",
       "      <td>170.0</td>\n",
       "      <td>59.0</td>\n",
       "      <td>1.0</td>\n",
       "      <td>female</td>\n",
       "      <td>right handed</td>\n",
       "      <td>secondary school</td>\n",
       "      <td>no</td>\n",
       "      <td>village</td>\n",
       "      <td>house/bungalow</td>\n",
       "    </tr>\n",
       "  </tbody>\n",
       "</table>\n",
       "<p>5 rows × 150 columns</p>\n",
       "</div>"
      ],
      "text/plain": [
       "   Music  Slow songs or fast songs  Dance  Folk  Country  Classical music  \\\n",
       "0    5.0                       3.0    2.0   1.0      2.0              2.0   \n",
       "1    4.0                       4.0    2.0   1.0      1.0              1.0   \n",
       "2    5.0                       5.0    2.0   2.0      3.0              4.0   \n",
       "3    5.0                       3.0    2.0   1.0      1.0              1.0   \n",
       "4    5.0                       3.0    4.0   3.0      2.0              4.0   \n",
       "\n",
       "   Musical  Pop  Rock  Metal or Hardrock  ...   Age  Height  Weight  \\\n",
       "0      1.0  5.0   5.0                1.0  ...  20.0   163.0    48.0   \n",
       "1      2.0  3.0   5.0                4.0  ...  19.0   163.0    58.0   \n",
       "2      5.0  3.0   5.0                3.0  ...  20.0   176.0    67.0   \n",
       "3      1.0  2.0   2.0                1.0  ...  22.0   172.0    59.0   \n",
       "4      3.0  5.0   3.0                1.0  ...  20.0   170.0    59.0   \n",
       "\n",
       "   Number of siblings  Gender  Left - right handed                Education  \\\n",
       "0                 1.0  female         right handed  college/bachelor degree   \n",
       "1                 2.0  female         right handed  college/bachelor degree   \n",
       "2                 2.0  female         right handed         secondary school   \n",
       "3                 1.0  female         right handed  college/bachelor degree   \n",
       "4                 1.0  female         right handed         secondary school   \n",
       "\n",
       "   Only child  Village - town  House - block of flats  \n",
       "0          no         village          block of flats  \n",
       "1          no            city          block of flats  \n",
       "2          no            city          block of flats  \n",
       "3         yes            city          house/bungalow  \n",
       "4          no         village          house/bungalow  \n",
       "\n",
       "[5 rows x 150 columns]"
      ]
     },
     "execution_count": 3,
     "metadata": {},
     "output_type": "execute_result"
    }
   ],
   "source": [
    "import numpy as np\n",
    "import pandas as pd\n",
    "import matplotlib.pyplot as plt\n",
    "from sklearn.linear_model import LinearRegression\n",
    "from sklearn.model_selection import train_test_split\n",
    "from sklearn.metrics import r2_score, mean_squared_error\n",
    "from sklearn.experimental import enable_iterative_imputer\n",
    "from sklearn.impute import IterativeImputer\n",
    "%matplotlib inline\n",
    "\n",
    "df = pd.read_csv('young-people-survey/responses.csv')\n",
    "df.head()"
   ]
  },
  {
   "cell_type": "code",
   "execution_count": 4,
   "metadata": {},
   "outputs": [
    {
     "data": {
      "text/plain": [
       "['Music',\n",
       " 'Slow songs or fast songs',\n",
       " 'Dance',\n",
       " 'Folk',\n",
       " 'Country',\n",
       " 'Classical music',\n",
       " 'Musical',\n",
       " 'Pop',\n",
       " 'Rock',\n",
       " 'Metal or Hardrock',\n",
       " 'Punk',\n",
       " 'Hiphop, Rap',\n",
       " 'Reggae, Ska',\n",
       " 'Swing, Jazz',\n",
       " 'Rock n roll',\n",
       " 'Alternative',\n",
       " 'Latino',\n",
       " 'Techno, Trance',\n",
       " 'Opera',\n",
       " 'Movies',\n",
       " 'Horror',\n",
       " 'Thriller',\n",
       " 'Comedy',\n",
       " 'Romantic',\n",
       " 'Sci-fi',\n",
       " 'War',\n",
       " 'Fantasy/Fairy tales',\n",
       " 'Animated',\n",
       " 'Documentary',\n",
       " 'Western',\n",
       " 'Action',\n",
       " 'History',\n",
       " 'Psychology',\n",
       " 'Politics',\n",
       " 'Mathematics',\n",
       " 'Physics',\n",
       " 'Internet',\n",
       " 'PC',\n",
       " 'Economy Management',\n",
       " 'Biology',\n",
       " 'Chemistry',\n",
       " 'Reading',\n",
       " 'Geography',\n",
       " 'Foreign languages',\n",
       " 'Medicine',\n",
       " 'Law',\n",
       " 'Cars',\n",
       " 'Art exhibitions',\n",
       " 'Religion',\n",
       " 'Countryside, outdoors',\n",
       " 'Dancing',\n",
       " 'Musical instruments',\n",
       " 'Writing',\n",
       " 'Passive sport',\n",
       " 'Active sport',\n",
       " 'Gardening',\n",
       " 'Celebrities',\n",
       " 'Shopping',\n",
       " 'Science and technology',\n",
       " 'Theatre',\n",
       " 'Fun with friends',\n",
       " 'Adrenaline sports',\n",
       " 'Pets',\n",
       " 'Flying',\n",
       " 'Storm',\n",
       " 'Darkness',\n",
       " 'Heights',\n",
       " 'Spiders',\n",
       " 'Snakes',\n",
       " 'Rats',\n",
       " 'Ageing',\n",
       " 'Dangerous dogs',\n",
       " 'Fear of public speaking',\n",
       " 'Smoking',\n",
       " 'Alcohol',\n",
       " 'Healthy eating',\n",
       " 'Daily events',\n",
       " 'Prioritising workload',\n",
       " 'Writing notes',\n",
       " 'Workaholism',\n",
       " 'Thinking ahead',\n",
       " 'Final judgement',\n",
       " 'Reliability',\n",
       " 'Keeping promises',\n",
       " 'Loss of interest',\n",
       " 'Friends versus money',\n",
       " 'Funniness',\n",
       " 'Fake',\n",
       " 'Criminal damage',\n",
       " 'Decision making',\n",
       " 'Elections',\n",
       " 'Self-criticism',\n",
       " 'Judgment calls',\n",
       " 'Hypochondria',\n",
       " 'Empathy',\n",
       " 'Eating to survive',\n",
       " 'Giving',\n",
       " 'Compassion to animals',\n",
       " 'Borrowed stuff',\n",
       " 'Loneliness',\n",
       " 'Cheating in school',\n",
       " 'Health',\n",
       " 'Changing the past',\n",
       " 'God',\n",
       " 'Dreams',\n",
       " 'Charity',\n",
       " 'Number of friends',\n",
       " 'Punctuality',\n",
       " 'Lying',\n",
       " 'Waiting',\n",
       " 'New environment',\n",
       " 'Mood swings',\n",
       " 'Appearence and gestures',\n",
       " 'Socializing',\n",
       " 'Achievements',\n",
       " 'Responding to a serious letter',\n",
       " 'Children',\n",
       " 'Assertiveness',\n",
       " 'Getting angry',\n",
       " 'Knowing the right people',\n",
       " 'Public speaking',\n",
       " 'Unpopularity',\n",
       " 'Life struggles',\n",
       " 'Happiness in life',\n",
       " 'Energy levels',\n",
       " 'Small - big dogs',\n",
       " 'Personality',\n",
       " 'Finding lost valuables',\n",
       " 'Getting up',\n",
       " 'Interests or hobbies',\n",
       " \"Parents' advice\",\n",
       " 'Questionnaires or polls',\n",
       " 'Internet usage',\n",
       " 'Finances',\n",
       " 'Shopping centres',\n",
       " 'Branded clothing',\n",
       " 'Entertainment spending',\n",
       " 'Spending on looks',\n",
       " 'Spending on gadgets',\n",
       " 'Spending on healthy eating',\n",
       " 'Age',\n",
       " 'Height',\n",
       " 'Weight',\n",
       " 'Number of siblings',\n",
       " 'Gender',\n",
       " 'Left - right handed',\n",
       " 'Education',\n",
       " 'Only child',\n",
       " 'Village - town',\n",
       " 'House - block of flats']"
      ]
     },
     "execution_count": 4,
     "metadata": {},
     "output_type": "execute_result"
    }
   ],
   "source": [
    "list(df.columns)"
   ]
  },
  {
   "cell_type": "code",
   "execution_count": 5,
   "metadata": {},
   "outputs": [
    {
     "data": {
      "text/html": [
       "<div>\n",
       "<style scoped>\n",
       "    .dataframe tbody tr th:only-of-type {\n",
       "        vertical-align: middle;\n",
       "    }\n",
       "\n",
       "    .dataframe tbody tr th {\n",
       "        vertical-align: top;\n",
       "    }\n",
       "\n",
       "    .dataframe thead th {\n",
       "        text-align: right;\n",
       "    }\n",
       "</style>\n",
       "<table border=\"1\" class=\"dataframe\">\n",
       "  <thead>\n",
       "    <tr style=\"text-align: right;\">\n",
       "      <th></th>\n",
       "      <th>Internet usage</th>\n",
       "      <th>Loneliness</th>\n",
       "      <th>Shopping</th>\n",
       "      <th>Shopping centres</th>\n",
       "      <th>Branded clothing</th>\n",
       "      <th>Entertainment spending</th>\n",
       "      <th>Spending on looks</th>\n",
       "      <th>Spending on gadgets</th>\n",
       "      <th>Spending on healthy eating</th>\n",
       "      <th>Happiness in life</th>\n",
       "    </tr>\n",
       "  </thead>\n",
       "  <tbody>\n",
       "    <tr>\n",
       "      <td>0</td>\n",
       "      <td>few hours a day</td>\n",
       "      <td>3.0</td>\n",
       "      <td>4.0</td>\n",
       "      <td>4.0</td>\n",
       "      <td>5.0</td>\n",
       "      <td>3.0</td>\n",
       "      <td>3.0</td>\n",
       "      <td>1</td>\n",
       "      <td>3.0</td>\n",
       "      <td>4.0</td>\n",
       "    </tr>\n",
       "    <tr>\n",
       "      <td>1</td>\n",
       "      <td>few hours a day</td>\n",
       "      <td>2.0</td>\n",
       "      <td>3.0</td>\n",
       "      <td>4.0</td>\n",
       "      <td>1.0</td>\n",
       "      <td>4.0</td>\n",
       "      <td>2.0</td>\n",
       "      <td>5</td>\n",
       "      <td>2.0</td>\n",
       "      <td>4.0</td>\n",
       "    </tr>\n",
       "    <tr>\n",
       "      <td>2</td>\n",
       "      <td>few hours a day</td>\n",
       "      <td>5.0</td>\n",
       "      <td>4.0</td>\n",
       "      <td>4.0</td>\n",
       "      <td>1.0</td>\n",
       "      <td>4.0</td>\n",
       "      <td>3.0</td>\n",
       "      <td>4</td>\n",
       "      <td>2.0</td>\n",
       "      <td>4.0</td>\n",
       "    </tr>\n",
       "    <tr>\n",
       "      <td>3</td>\n",
       "      <td>most of the day</td>\n",
       "      <td>5.0</td>\n",
       "      <td>4.0</td>\n",
       "      <td>4.0</td>\n",
       "      <td>3.0</td>\n",
       "      <td>3.0</td>\n",
       "      <td>4.0</td>\n",
       "      <td>4</td>\n",
       "      <td>1.0</td>\n",
       "      <td>2.0</td>\n",
       "    </tr>\n",
       "    <tr>\n",
       "      <td>4</td>\n",
       "      <td>few hours a day</td>\n",
       "      <td>3.0</td>\n",
       "      <td>3.0</td>\n",
       "      <td>3.0</td>\n",
       "      <td>4.0</td>\n",
       "      <td>3.0</td>\n",
       "      <td>3.0</td>\n",
       "      <td>2</td>\n",
       "      <td>4.0</td>\n",
       "      <td>3.0</td>\n",
       "    </tr>\n",
       "  </tbody>\n",
       "</table>\n",
       "</div>"
      ],
      "text/plain": [
       "    Internet usage  Loneliness  Shopping  Shopping centres  Branded clothing  \\\n",
       "0  few hours a day         3.0       4.0               4.0               5.0   \n",
       "1  few hours a day         2.0       3.0               4.0               1.0   \n",
       "2  few hours a day         5.0       4.0               4.0               1.0   \n",
       "3  most of the day         5.0       4.0               4.0               3.0   \n",
       "4  few hours a day         3.0       3.0               3.0               4.0   \n",
       "\n",
       "   Entertainment spending  Spending on looks  Spending on gadgets  \\\n",
       "0                     3.0                3.0                    1   \n",
       "1                     4.0                2.0                    5   \n",
       "2                     4.0                3.0                    4   \n",
       "3                     3.0                4.0                    4   \n",
       "4                     3.0                3.0                    2   \n",
       "\n",
       "   Spending on healthy eating  Happiness in life  \n",
       "0                         3.0                4.0  \n",
       "1                         2.0                4.0  \n",
       "2                         2.0                4.0  \n",
       "3                         1.0                2.0  \n",
       "4                         4.0                3.0  "
      ]
     },
     "execution_count": 5,
     "metadata": {},
     "output_type": "execute_result"
    }
   ],
   "source": [
    "# Minimizing the dataframe to just our columns of interest\n",
    "df= df[['Internet usage', 'Loneliness', 'Shopping', 'Shopping centres', 'Branded clothing', 'Entertainment spending','Spending on looks', 'Spending on gadgets', 'Spending on healthy eating', 'Happiness in life']]\n",
    "df.head()"
   ]
  },
  {
   "cell_type": "markdown",
   "metadata": {},
   "source": [
    "#### Dealing with missing data"
   ]
  },
  {
   "cell_type": "code",
   "execution_count": 21,
   "metadata": {},
   "outputs": [],
   "source": [
    "def preprocessing(df):\n",
    "    \"\"\"\n",
    "    \"\"\"\n",
    "    # Data cleaning: \n",
    "    # There is one missing value on the Loneliness column. \n",
    "    # Since the row missing the Internet usage value will not help us answer our questions of interst, we can drop it\n",
    "    df.dropna(axis=0, inplace=True, subset=[\"Internet usage\"])\n",
    "    \n",
    "    #QUESTION 1\n",
    "    df1 = df[['Internet usage', 'Loneliness']]\n",
    "    # Data cleaning: \n",
    "    # There is one missing value on the Loneliness column. \n",
    "    # Since the row missing the Internet usage value will not help us answer our questions of interst, we can drop it\n",
    "    df1.dropna(axis=0, inplace=True, subset=[\"Loneliness\"])\n",
    "    \n",
    "    #QUESTION 2\n",
    "    df2 = df[['Internet usage', 'Shopping', 'Shopping centres', 'Branded clothing', 'Entertainment spending','Spending on looks', 'Spending on gadgets', 'Spending on healthy eating']]\n",
    "    #Since the data is missing from multiple columns, deleting records with missing values will impact the results of the remaining columns. Therefore, I will go with impuation.\n",
    "    # https://scikit-learn.org/stable/modules/impute.html\n",
    "    # Note: This needs to be modified; supposed to divide df2 into training and testing.. \n",
    "\n",
    "    imp = IterativeImputer(max_iter=10, random_state=0)\n",
    "    df_training = df2[['Shopping', 'Shopping centres', 'Branded clothing', 'Entertainment spending','Spending on looks', 'Spending on gadgets', 'Spending on healthy eating']]\n",
    "    imp.fit(df_training)\n",
    "    df_training = pd.DataFrame(np.round(imp.transform(df_training)), columns=df_training.columns) \n",
    "    df_training.insert(0, \"Internet usage\", df2[\"Internet usage\"])\n",
    "    df_training\n",
    "    df2 = df_training\n",
    "    \n",
    "    #QUESTION 3\n",
    "    df3 = df[['Internet usage', 'Happiness in life']]\n",
    "    # There are four missing values in the 'Happiness in life' column. \n",
    "    # Since the row missing the'Happiness in life' value will not help us answer our questions of interst, we can drop it\n",
    "    df3.dropna(axis=0, inplace=True, subset=['Happiness in life'])\n",
    "\n",
    "    \n",
    "    \n",
    "    return df1, df2, df3\n",
    "    "
   ]
  },
  {
   "cell_type": "markdown",
   "metadata": {},
   "source": [
    "#### Note: \n",
    "The plan is to use sub-dataframes for every question."
   ]
  },
  {
   "cell_type": "code",
   "execution_count": 30,
   "metadata": {},
   "outputs": [
    {
     "name": "stderr",
     "output_type": "stream",
     "text": [
      "/opt/anaconda3/lib/python3.7/site-packages/ipykernel_launcher.py:14: SettingWithCopyWarning: \n",
      "A value is trying to be set on a copy of a slice from a DataFrame\n",
      "\n",
      "See the caveats in the documentation: http://pandas.pydata.org/pandas-docs/stable/user_guide/indexing.html#returning-a-view-versus-a-copy\n",
      "  \n",
      "/opt/anaconda3/lib/python3.7/site-packages/ipykernel_launcher.py:34: SettingWithCopyWarning: \n",
      "A value is trying to be set on a copy of a slice from a DataFrame\n",
      "\n",
      "See the caveats in the documentation: http://pandas.pydata.org/pandas-docs/stable/user_guide/indexing.html#returning-a-view-versus-a-copy\n"
     ]
    }
   ],
   "source": [
    "df1, df2, df3 = preprocessing(df)"
   ]
  },
  {
   "cell_type": "markdown",
   "metadata": {},
   "source": [
    "-----------------------------------------"
   ]
  },
  {
   "cell_type": "markdown",
   "metadata": {},
   "source": [
    "\n",
    "\n",
    "\n",
    "\n",
    "\n",
    "### Question #1: \n",
    "\n",
    "We want to understand the relationship between loneliness and the number of hours spent on the internet"
   ]
  },
  {
   "cell_type": "markdown",
   "metadata": {},
   "source": [
    "Columns of interest: Internet usage, Loneliness"
   ]
  },
  {
   "cell_type": "code",
   "execution_count": 23,
   "metadata": {
    "scrolled": true
   },
   "outputs": [
    {
     "data": {
      "text/html": [
       "<div>\n",
       "<style scoped>\n",
       "    .dataframe tbody tr th:only-of-type {\n",
       "        vertical-align: middle;\n",
       "    }\n",
       "\n",
       "    .dataframe tbody tr th {\n",
       "        vertical-align: top;\n",
       "    }\n",
       "\n",
       "    .dataframe thead th {\n",
       "        text-align: right;\n",
       "    }\n",
       "</style>\n",
       "<table border=\"1\" class=\"dataframe\">\n",
       "  <thead>\n",
       "    <tr style=\"text-align: right;\">\n",
       "      <th></th>\n",
       "      <th>Internet usage</th>\n",
       "      <th>Loneliness</th>\n",
       "    </tr>\n",
       "  </thead>\n",
       "  <tbody>\n",
       "    <tr>\n",
       "      <td>0</td>\n",
       "      <td>few hours a day</td>\n",
       "      <td>3.0</td>\n",
       "    </tr>\n",
       "    <tr>\n",
       "      <td>1</td>\n",
       "      <td>few hours a day</td>\n",
       "      <td>2.0</td>\n",
       "    </tr>\n",
       "    <tr>\n",
       "      <td>2</td>\n",
       "      <td>few hours a day</td>\n",
       "      <td>5.0</td>\n",
       "    </tr>\n",
       "    <tr>\n",
       "      <td>3</td>\n",
       "      <td>most of the day</td>\n",
       "      <td>5.0</td>\n",
       "    </tr>\n",
       "    <tr>\n",
       "      <td>4</td>\n",
       "      <td>few hours a day</td>\n",
       "      <td>3.0</td>\n",
       "    </tr>\n",
       "  </tbody>\n",
       "</table>\n",
       "</div>"
      ],
      "text/plain": [
       "    Internet usage  Loneliness\n",
       "0  few hours a day         3.0\n",
       "1  few hours a day         2.0\n",
       "2  few hours a day         5.0\n",
       "3  most of the day         5.0\n",
       "4  few hours a day         3.0"
      ]
     },
     "execution_count": 23,
     "metadata": {},
     "output_type": "execute_result"
    }
   ],
   "source": [
    "df1.head()"
   ]
  },
  {
   "cell_type": "markdown",
   "metadata": {},
   "source": [
    "#### Double-check for Missing Data:"
   ]
  },
  {
   "cell_type": "code",
   "execution_count": 24,
   "metadata": {
    "scrolled": false
   },
   "outputs": [
    {
     "data": {
      "text/plain": [
       "Internet usage    0\n",
       "Loneliness        0\n",
       "dtype: int64"
      ]
     },
     "execution_count": 24,
     "metadata": {},
     "output_type": "execute_result"
    }
   ],
   "source": [
    "df1.isna().sum()"
   ]
  },
  {
   "cell_type": "code",
   "execution_count": 25,
   "metadata": {},
   "outputs": [
    {
     "data": {
      "text/html": [
       "<div>\n",
       "<style scoped>\n",
       "    .dataframe tbody tr th:only-of-type {\n",
       "        vertical-align: middle;\n",
       "    }\n",
       "\n",
       "    .dataframe tbody tr th {\n",
       "        vertical-align: top;\n",
       "    }\n",
       "\n",
       "    .dataframe thead th {\n",
       "        text-align: right;\n",
       "    }\n",
       "</style>\n",
       "<table border=\"1\" class=\"dataframe\">\n",
       "  <thead>\n",
       "    <tr style=\"text-align: right;\">\n",
       "      <th></th>\n",
       "      <th>Loneliness</th>\n",
       "    </tr>\n",
       "    <tr>\n",
       "      <th>Internet usage</th>\n",
       "      <th></th>\n",
       "    </tr>\n",
       "  </thead>\n",
       "  <tbody>\n",
       "    <tr>\n",
       "      <td>less than an hour a day</td>\n",
       "      <td>2.582734</td>\n",
       "    </tr>\n",
       "    <tr>\n",
       "      <td>no time at all</td>\n",
       "      <td>2.666667</td>\n",
       "    </tr>\n",
       "    <tr>\n",
       "      <td>few hours a day</td>\n",
       "      <td>2.888291</td>\n",
       "    </tr>\n",
       "    <tr>\n",
       "      <td>most of the day</td>\n",
       "      <td>3.225806</td>\n",
       "    </tr>\n",
       "  </tbody>\n",
       "</table>\n",
       "</div>"
      ],
      "text/plain": [
       "                         Loneliness\n",
       "Internet usage                     \n",
       "less than an hour a day    2.582734\n",
       "no time at all             2.666667\n",
       "few hours a day            2.888291\n",
       "most of the day            3.225806"
      ]
     },
     "execution_count": 25,
     "metadata": {},
     "output_type": "execute_result"
    }
   ],
   "source": [
    "internet_loneliness = df1.groupby(['Internet usage']).mean()\n",
    "internet_loneliness.sort_values(by='Loneliness')"
   ]
  },
  {
   "cell_type": "code",
   "execution_count": 26,
   "metadata": {},
   "outputs": [],
   "source": [
    "ordered = internet_loneliness.reindex(['no time at all', 'less than an hour a day', 'few hours a day', 'most of the day'])"
   ]
  },
  {
   "cell_type": "code",
   "execution_count": 27,
   "metadata": {},
   "outputs": [
    {
     "data": {
      "text/plain": [
       "<matplotlib.axes._subplots.AxesSubplot at 0x1a272284d0>"
      ]
     },
     "execution_count": 27,
     "metadata": {},
     "output_type": "execute_result"
    },
    {
     "data": {
      "image/png": "[encoded data removed]",
      "text/plain": [
       "<Figure size 576x360 with 1 Axes>"
      ]
     },
     "metadata": {
      "needs_background": "light"
     },
     "output_type": "display_data"
    }
   ],
   "source": [
    "ordered.plot(kind='bar',alpha=0.75, rot=20, figsize=(8, 5))"
   ]
  },
  {
   "cell_type": "markdown",
   "metadata": {},
   "source": [
    "### Conclusion\n",
    "\n",
    "People who spend longer hours online tend to feel more lonely. \n",
    "\n",
    "**Note:** This conclusion does not explain the cause-effect relationship. It is unclear whether spending longer hours on the internet causes the person to feel lonelier, or if lonelier people spend longer hours on the internet to compensate for their loneliness through social media and online interactions."
   ]
  },
  {
   "cell_type": "markdown",
   "metadata": {},
   "source": [
    "------------------------------"
   ]
  },
  {
   "cell_type": "markdown",
   "metadata": {},
   "source": [
    "### Question #2:\n",
    "\n",
    "It is known that one of the most common ways in which websites make profit is through ads. There is also the social media influencers who often share content related to shopping, and -in some cases- possess various luxury items, which may encourage impulsive spending behavior. How does that influence internet users' shopping habits? Do users who spend longer hours online shop more? and what do they normally shop for?"
   ]
  },
  {
   "cell_type": "code",
   "execution_count": 31,
   "metadata": {},
   "outputs": [
    {
     "data": {
      "text/html": [
       "<div>\n",
       "<style scoped>\n",
       "    .dataframe tbody tr th:only-of-type {\n",
       "        vertical-align: middle;\n",
       "    }\n",
       "\n",
       "    .dataframe tbody tr th {\n",
       "        vertical-align: top;\n",
       "    }\n",
       "\n",
       "    .dataframe thead th {\n",
       "        text-align: right;\n",
       "    }\n",
       "</style>\n",
       "<table border=\"1\" class=\"dataframe\">\n",
       "  <thead>\n",
       "    <tr style=\"text-align: right;\">\n",
       "      <th></th>\n",
       "      <th>Internet usage</th>\n",
       "      <th>Shopping</th>\n",
       "      <th>Shopping centres</th>\n",
       "      <th>Branded clothing</th>\n",
       "      <th>Entertainment spending</th>\n",
       "      <th>Spending on looks</th>\n",
       "      <th>Spending on gadgets</th>\n",
       "      <th>Spending on healthy eating</th>\n",
       "    </tr>\n",
       "  </thead>\n",
       "  <tbody>\n",
       "    <tr>\n",
       "      <td>0</td>\n",
       "      <td>few hours a day</td>\n",
       "      <td>4.0</td>\n",
       "      <td>4.0</td>\n",
       "      <td>5.0</td>\n",
       "      <td>3.0</td>\n",
       "      <td>3.0</td>\n",
       "      <td>1.0</td>\n",
       "      <td>3.0</td>\n",
       "    </tr>\n",
       "    <tr>\n",
       "      <td>1</td>\n",
       "      <td>few hours a day</td>\n",
       "      <td>3.0</td>\n",
       "      <td>4.0</td>\n",
       "      <td>1.0</td>\n",
       "      <td>4.0</td>\n",
       "      <td>2.0</td>\n",
       "      <td>5.0</td>\n",
       "      <td>2.0</td>\n",
       "    </tr>\n",
       "    <tr>\n",
       "      <td>2</td>\n",
       "      <td>few hours a day</td>\n",
       "      <td>4.0</td>\n",
       "      <td>4.0</td>\n",
       "      <td>1.0</td>\n",
       "      <td>4.0</td>\n",
       "      <td>3.0</td>\n",
       "      <td>4.0</td>\n",
       "      <td>2.0</td>\n",
       "    </tr>\n",
       "    <tr>\n",
       "      <td>3</td>\n",
       "      <td>most of the day</td>\n",
       "      <td>4.0</td>\n",
       "      <td>4.0</td>\n",
       "      <td>3.0</td>\n",
       "      <td>3.0</td>\n",
       "      <td>4.0</td>\n",
       "      <td>4.0</td>\n",
       "      <td>1.0</td>\n",
       "    </tr>\n",
       "    <tr>\n",
       "      <td>4</td>\n",
       "      <td>few hours a day</td>\n",
       "      <td>3.0</td>\n",
       "      <td>3.0</td>\n",
       "      <td>4.0</td>\n",
       "      <td>3.0</td>\n",
       "      <td>3.0</td>\n",
       "      <td>2.0</td>\n",
       "      <td>4.0</td>\n",
       "    </tr>\n",
       "  </tbody>\n",
       "</table>\n",
       "</div>"
      ],
      "text/plain": [
       "    Internet usage  Shopping  Shopping centres  Branded clothing  \\\n",
       "0  few hours a day       4.0               4.0               5.0   \n",
       "1  few hours a day       3.0               4.0               1.0   \n",
       "2  few hours a day       4.0               4.0               1.0   \n",
       "3  most of the day       4.0               4.0               3.0   \n",
       "4  few hours a day       3.0               3.0               4.0   \n",
       "\n",
       "   Entertainment spending  Spending on looks  Spending on gadgets  \\\n",
       "0                     3.0                3.0                  1.0   \n",
       "1                     4.0                2.0                  5.0   \n",
       "2                     4.0                3.0                  4.0   \n",
       "3                     3.0                4.0                  4.0   \n",
       "4                     3.0                3.0                  2.0   \n",
       "\n",
       "   Spending on healthy eating  \n",
       "0                         3.0  \n",
       "1                         2.0  \n",
       "2                         2.0  \n",
       "3                         1.0  \n",
       "4                         4.0  "
      ]
     },
     "execution_count": 31,
     "metadata": {},
     "output_type": "execute_result"
    }
   ],
   "source": [
    "df2.head()"
   ]
  },
  {
   "cell_type": "markdown",
   "metadata": {},
   "source": [
    "#### Double-check for Missing Data:"
   ]
  },
  {
   "cell_type": "code",
   "execution_count": 32,
   "metadata": {},
   "outputs": [
    {
     "data": {
      "text/plain": [
       "Internet usage                0\n",
       "Shopping                      0\n",
       "Shopping centres              0\n",
       "Branded clothing              0\n",
       "Entertainment spending        0\n",
       "Spending on looks             0\n",
       "Spending on gadgets           0\n",
       "Spending on healthy eating    0\n",
       "dtype: int64"
      ]
     },
     "execution_count": 32,
     "metadata": {},
     "output_type": "execute_result"
    }
   ],
   "source": [
    "df2.isnull().sum()"
   ]
  },
  {
   "cell_type": "code",
   "execution_count": 33,
   "metadata": {},
   "outputs": [
    {
     "data": {
      "text/html": [
       "<div>\n",
       "<style scoped>\n",
       "    .dataframe tbody tr th:only-of-type {\n",
       "        vertical-align: middle;\n",
       "    }\n",
       "\n",
       "    .dataframe tbody tr th {\n",
       "        vertical-align: top;\n",
       "    }\n",
       "\n",
       "    .dataframe thead th {\n",
       "        text-align: right;\n",
       "    }\n",
       "</style>\n",
       "<table border=\"1\" class=\"dataframe\">\n",
       "  <thead>\n",
       "    <tr style=\"text-align: right;\">\n",
       "      <th></th>\n",
       "      <th>Shopping</th>\n",
       "      <th>Shopping centres</th>\n",
       "      <th>Branded clothing</th>\n",
       "      <th>Entertainment spending</th>\n",
       "      <th>Spending on looks</th>\n",
       "      <th>Spending on gadgets</th>\n",
       "      <th>Spending on healthy eating</th>\n",
       "    </tr>\n",
       "    <tr>\n",
       "      <th>Internet usage</th>\n",
       "      <th></th>\n",
       "      <th></th>\n",
       "      <th></th>\n",
       "      <th></th>\n",
       "      <th></th>\n",
       "      <th></th>\n",
       "      <th></th>\n",
       "    </tr>\n",
       "  </thead>\n",
       "  <tbody>\n",
       "    <tr>\n",
       "      <td>no time at all</td>\n",
       "      <td>2.666667</td>\n",
       "      <td>3.000000</td>\n",
       "      <td>2.666667</td>\n",
       "      <td>2.333333</td>\n",
       "      <td>2.666667</td>\n",
       "      <td>2.333333</td>\n",
       "      <td>3.666667</td>\n",
       "    </tr>\n",
       "    <tr>\n",
       "      <td>less than an hour a day</td>\n",
       "      <td>3.280576</td>\n",
       "      <td>3.158273</td>\n",
       "      <td>2.870504</td>\n",
       "      <td>2.978417</td>\n",
       "      <td>2.949640</td>\n",
       "      <td>2.489209</td>\n",
       "      <td>3.489209</td>\n",
       "    </tr>\n",
       "    <tr>\n",
       "      <td>few hours a day</td>\n",
       "      <td>3.319892</td>\n",
       "      <td>3.271505</td>\n",
       "      <td>3.080645</td>\n",
       "      <td>3.204301</td>\n",
       "      <td>3.146505</td>\n",
       "      <td>2.865591</td>\n",
       "      <td>3.591398</td>\n",
       "    </tr>\n",
       "    <tr>\n",
       "      <td>most of the day</td>\n",
       "      <td>3.032258</td>\n",
       "      <td>3.104839</td>\n",
       "      <td>3.080645</td>\n",
       "      <td>3.475806</td>\n",
       "      <td>3.048387</td>\n",
       "      <td>3.338710</td>\n",
       "      <td>3.427419</td>\n",
       "    </tr>\n",
       "  </tbody>\n",
       "</table>\n",
       "</div>"
      ],
      "text/plain": [
       "                         Shopping  Shopping centres  Branded clothing  \\\n",
       "Internet usage                                                          \n",
       "no time at all           2.666667          3.000000          2.666667   \n",
       "less than an hour a day  3.280576          3.158273          2.870504   \n",
       "few hours a day          3.319892          3.271505          3.080645   \n",
       "most of the day          3.032258          3.104839          3.080645   \n",
       "\n",
       "                         Entertainment spending  Spending on looks  \\\n",
       "Internet usage                                                       \n",
       "no time at all                         2.333333           2.666667   \n",
       "less than an hour a day                2.978417           2.949640   \n",
       "few hours a day                        3.204301           3.146505   \n",
       "most of the day                        3.475806           3.048387   \n",
       "\n",
       "                         Spending on gadgets  Spending on healthy eating  \n",
       "Internet usage                                                            \n",
       "no time at all                      2.333333                    3.666667  \n",
       "less than an hour a day             2.489209                    3.489209  \n",
       "few hours a day                     2.865591                    3.591398  \n",
       "most of the day                     3.338710                    3.427419  "
      ]
     },
     "execution_count": 33,
     "metadata": {},
     "output_type": "execute_result"
    }
   ],
   "source": [
    "internet_shopping = df2.groupby(['Internet usage']).mean()\n",
    "internet_shopping = internet_shopping.reindex(['no time at all', 'less than an hour a day', 'few hours a day', 'most of the day'])\n",
    "internet_shopping"
   ]
  },
  {
   "cell_type": "code",
   "execution_count": 34,
   "metadata": {},
   "outputs": [
    {
     "data": {
      "text/plain": [
       "['no time at all',\n",
       " 'less than an hour a day',\n",
       " 'few hours a day',\n",
       " 'most of the day']"
      ]
     },
     "execution_count": 34,
     "metadata": {},
     "output_type": "execute_result"
    }
   ],
   "source": [
    "xlabels = list(internet_shopping.index)\n",
    "xlabels"
   ]
  },
  {
   "cell_type": "code",
   "execution_count": 35,
   "metadata": {},
   "outputs": [],
   "source": [
    "branded_clothing = [internet_shopping['Branded clothing'][x] for x in internet_shopping.index]\n",
    "entertainment_spending = [internet_shopping['Entertainment spending'][x] for x in internet_shopping.index]\n",
    "spending_looks = [internet_shopping['Spending on looks'][x] for x in internet_shopping.index]\n",
    "spending_gadgets = [internet_shopping['Spending on gadgets'][x] for x in internet_shopping.index]\n",
    "spending_healthy_eating = [internet_shopping['Spending on healthy eating'][x] for x in internet_shopping.index]"
   ]
  },
  {
   "cell_type": "code",
   "execution_count": 36,
   "metadata": {},
   "outputs": [
    {
     "data": {
      "text/plain": [
       "[2.6666666666666665, 2.870503597122302, 3.0806451612903225, 3.0806451612903225]"
      ]
     },
     "execution_count": 36,
     "metadata": {},
     "output_type": "execute_result"
    }
   ],
   "source": [
    "branded_clothing"
   ]
  },
  {
   "cell_type": "code",
   "execution_count": 37,
   "metadata": {},
   "outputs": [
    {
     "data": {
      "image/png": "[encoded data removed]",
      "text/plain": [
       "<Figure size 720x432 with 1 Axes>"
      ]
     },
     "metadata": {
      "needs_background": "light"
     },
     "output_type": "display_data"
    }
   ],
   "source": [
    "index = np.arange(4)\n",
    "width = .1\n",
    "plt.figure(figsize=(10,6))\n",
    "plt.bar(index, branded_clothing, width, label=\"Branded Clothing\")\n",
    "plt.bar(index+width, entertainment_spending, width, label=\"Entertainment Spending\")\n",
    "plt.bar(index+width*2, spending_looks, width, label=\"Spending on Looks\")\n",
    "plt.bar(index+width*3, spending_gadgets, width, label=\"Spending on Gadgets\")\n",
    "\n",
    "\n",
    "plt.bar(index+width*4, spending_healthy_eating, width, label=\"Spending on Healthy Eating\")\n",
    "plt.xticks(index+width*3/2, xlabels, rotation=0)\n",
    "plt.yticks(np.arange(0, 5.1, .5))\n",
    "plt.ylim(0,6)\n",
    "plt.title(\"Time spent online Vs. Spendings\")\n",
    "plt.xlabel(\"Time Online\")\n",
    "plt.ylabel(\"Spending\")\n",
    "\n",
    "\n",
    "plt.legend(loc='best')\n",
    "plt.show()\n"
   ]
  },
  {
   "cell_type": "markdown",
   "metadata": {},
   "source": [
    "The graph shows that time spent online has some influence on the spending habits of individuals. The more time a person spends online, the more likely they are to spend money on gadgets and entertainment. There is a positive correlation between time spent online and spending on looks, though it is not as strong as I initially assumed. \n",
    "\n",
    "It is also shown that users also tend to be more drawn to branded clothes the longer they spend on the internet. "
   ]
  },
  {
   "cell_type": "markdown",
   "metadata": {},
   "source": [
    "### Question #3:\n",
    "\n",
    "We want to know if internet usage makes people less happy on average. \n"
   ]
  },
  {
   "cell_type": "code",
   "execution_count": 38,
   "metadata": {
    "scrolled": true
   },
   "outputs": [
    {
     "data": {
      "text/html": [
       "<div>\n",
       "<style scoped>\n",
       "    .dataframe tbody tr th:only-of-type {\n",
       "        vertical-align: middle;\n",
       "    }\n",
       "\n",
       "    .dataframe tbody tr th {\n",
       "        vertical-align: top;\n",
       "    }\n",
       "\n",
       "    .dataframe thead th {\n",
       "        text-align: right;\n",
       "    }\n",
       "</style>\n",
       "<table border=\"1\" class=\"dataframe\">\n",
       "  <thead>\n",
       "    <tr style=\"text-align: right;\">\n",
       "      <th></th>\n",
       "      <th>Internet usage</th>\n",
       "      <th>Happiness in life</th>\n",
       "    </tr>\n",
       "  </thead>\n",
       "  <tbody>\n",
       "    <tr>\n",
       "      <td>0</td>\n",
       "      <td>few hours a day</td>\n",
       "      <td>4.0</td>\n",
       "    </tr>\n",
       "    <tr>\n",
       "      <td>1</td>\n",
       "      <td>few hours a day</td>\n",
       "      <td>4.0</td>\n",
       "    </tr>\n",
       "    <tr>\n",
       "      <td>2</td>\n",
       "      <td>few hours a day</td>\n",
       "      <td>4.0</td>\n",
       "    </tr>\n",
       "    <tr>\n",
       "      <td>3</td>\n",
       "      <td>most of the day</td>\n",
       "      <td>2.0</td>\n",
       "    </tr>\n",
       "    <tr>\n",
       "      <td>4</td>\n",
       "      <td>few hours a day</td>\n",
       "      <td>3.0</td>\n",
       "    </tr>\n",
       "  </tbody>\n",
       "</table>\n",
       "</div>"
      ],
      "text/plain": [
       "    Internet usage  Happiness in life\n",
       "0  few hours a day                4.0\n",
       "1  few hours a day                4.0\n",
       "2  few hours a day                4.0\n",
       "3  most of the day                2.0\n",
       "4  few hours a day                3.0"
      ]
     },
     "execution_count": 38,
     "metadata": {},
     "output_type": "execute_result"
    }
   ],
   "source": [
    "df3.head()"
   ]
  },
  {
   "cell_type": "markdown",
   "metadata": {},
   "source": [
    "#### Handling Missing Data:"
   ]
  },
  {
   "cell_type": "code",
   "execution_count": 93,
   "metadata": {},
   "outputs": [
    {
     "data": {
      "text/plain": [
       "Internet usage       0\n",
       "Happiness in life    4\n",
       "dtype: int64"
      ]
     },
     "execution_count": 93,
     "metadata": {},
     "output_type": "execute_result"
    }
   ],
   "source": [
    "df3.isnull().sum()"
   ]
  },
  {
   "cell_type": "code",
   "execution_count": 95,
   "metadata": {},
   "outputs": [
    {
     "data": {
      "text/html": [
       "<div>\n",
       "<style scoped>\n",
       "    .dataframe tbody tr th:only-of-type {\n",
       "        vertical-align: middle;\n",
       "    }\n",
       "\n",
       "    .dataframe tbody tr th {\n",
       "        vertical-align: top;\n",
       "    }\n",
       "\n",
       "    .dataframe thead th {\n",
       "        text-align: right;\n",
       "    }\n",
       "</style>\n",
       "<table border=\"1\" class=\"dataframe\">\n",
       "  <thead>\n",
       "    <tr style=\"text-align: right;\">\n",
       "      <th></th>\n",
       "      <th>Happiness in life</th>\n",
       "    </tr>\n",
       "    <tr>\n",
       "      <th>Internet usage</th>\n",
       "      <th></th>\n",
       "    </tr>\n",
       "  </thead>\n",
       "  <tbody>\n",
       "    <tr>\n",
       "      <td>no time at all</td>\n",
       "      <td>3.666667</td>\n",
       "    </tr>\n",
       "    <tr>\n",
       "      <td>less than an hour a day</td>\n",
       "      <td>3.766423</td>\n",
       "    </tr>\n",
       "    <tr>\n",
       "      <td>few hours a day</td>\n",
       "      <td>3.745283</td>\n",
       "    </tr>\n",
       "    <tr>\n",
       "      <td>most of the day</td>\n",
       "      <td>3.403226</td>\n",
       "    </tr>\n",
       "  </tbody>\n",
       "</table>\n",
       "</div>"
      ],
      "text/plain": [
       "                         Happiness in life\n",
       "Internet usage                            \n",
       "no time at all                    3.666667\n",
       "less than an hour a day           3.766423\n",
       "few hours a day                   3.745283\n",
       "most of the day                   3.403226"
      ]
     },
     "execution_count": 95,
     "metadata": {},
     "output_type": "execute_result"
    }
   ],
   "source": [
    "internet_happiness = df3.groupby(['Internet usage']).mean()\n",
    "internet_happiness = internet_happiness.reindex(['no time at all', 'less than an hour a day', 'few hours a day', 'most of the day'])\n",
    "internet_happiness"
   ]
  },
  {
   "cell_type": "markdown",
   "metadata": {},
   "source": [
    "There doesn't seem to be a clear direct relationship between internet usage and happiness, whether positive or negative."
   ]
  },
  {
   "cell_type": "code",
   "execution_count": null,
   "metadata": {},
   "outputs": [],
   "source": []
  }
 ],
 "metadata": {
  "kernelspec": {
   "display_name": "Python 3",
   "language": "python",
   "name": "python3"
  },
  "language_info": {
   "codemirror_mode": {
    "name": "ipython",
    "version": 3
   },
   "file_extension": ".py",
   "mimetype": "text/x-python",
   "name": "python",
   "nbconvert_exporter": "python",
   "pygments_lexer": "ipython3",
   "version": "3.7.4"
  }
 },
 "nbformat": 4,
 "nbformat_minor": 2
}
